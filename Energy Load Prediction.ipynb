{
 "cells": [
  {
   "cell_type": "markdown",
   "metadata": {},
   "source": [
    "<img src=\"EEB.jpg\" width=\"800\" />"
   ]
  },
  {
   "cell_type": "markdown",
   "metadata": {},
   "source": [
    "## Accurate quantitative estimation of energy performance of residential buildings using statistical machine learning tools\n",
    "\n",
    "### Source -- Oxford Centre for Industrial and Applied Mathematics, University of Oxford, UK\n",
    "\n",
    "#### Data Set Information:\n",
    "We perform energy analysis using 12 different building shapes simulated in Ecotect. The buildings differ with respect to the glazing area, the glazing area distribution, and the orientation, amongst other parameters. We simulate various settings as functions of the afore-mentioned characteristics to obtain 768 building shapes. The dataset comprises 768 samples and 8 features, aiming to predict two real valued responses. Then the Energy Load of building is classified as LOW , MEDIUM And HIGH based on the predicted real valued responses\n",
    "\n",
    "#### Attribute Information:\n",
    "\n",
    "The dataset contains eight attributes (or features, denoted by X1...X8) and two responses (or outcomes, denoted by y1 and y2). The aim is to use the eight features to predict each of the two responses.\n",
    "\n",
    "Specifically:<br/>\n",
    "X1 Relative Compactness <br/>\n",
    "X2 Surface Area <br/>\n",
    "X3 Wall Area <br/>\n",
    "X4 Roof Area <br/>\n",
    "X5 Overall Height<br/>\n",
    "X6 Orientation<br/>\n",
    "X7 Glazing Area<br/>\n",
    "X8 Glazing Area Distribution<br/>\n",
    "y1 Heating Load<br/>\n",
    "y2 Cooling Load<br/>\n",
    "\n",
    "\n"
   ]
  },
  {
   "cell_type": "markdown",
   "metadata": {},
   "source": [
    "*  Basic Explorataory analysis was performed on the dataset.\n",
    "*  Since there are two dependent variables I have evaluated two models one with heat_loading and the other with cool_loading.\n",
    "*  Basic models such as linear regression ,Ridge Regression , lasso regression,decision Tree Regressor were evaluate and their R2 score was computed.\n",
    "*  As expected Decision Tree has the highest test and train scores and it is over fitting. \n",
    "*  Ensemble methods such as Random Forest , Bagging , Ada boost were used on both the models and their test and train score were evaluated.\n",
    "*   At last using Neural Network I  have classified the combined heating and cooling load (total load) as low,medium,high with a 90.91% Accuracy"
   ]
  },
  {
   "cell_type": "code",
   "execution_count": 3,
   "metadata": {
    "collapsed": true
   },
   "outputs": [],
   "source": [
    "data=pd.read_csv(\"ENB2012_data.csv\")"
   ]
  },
  {
   "cell_type": "code",
   "execution_count": 2,
   "metadata": {
    "collapsed": true
   },
   "outputs": [],
   "source": [
    "import numpy as np\n",
    "import matplotlib.pyplot as plt\n",
    "import pandas as pd\n",
    "from sklearn.model_selection import train_test_split\n",
    "from sklearn.preprocessing import StandardScaler\n",
    "from sklearn.preprocessing import MinMaxScaler\n",
    "from sklearn.preprocessing import Normalizer\n",
    "from sklearn.model_selection import KFold\n",
    "from sklearn.model_selection import cross_val_score\n",
    "from sklearn.model_selection import GridSearchCV\n",
    "from sklearn.metrics import mean_squared_error\n",
    "from sklearn.pipeline import Pipeline\n",
    "import seaborn as sns\n",
    "%matplotlib inline"
   ]
  },
  {
   "cell_type": "markdown",
   "metadata": {},
   "source": [
    "# Exploratory Analysis"
   ]
  },
  {
   "cell_type": "code",
   "execution_count": 4,
   "metadata": {},
   "outputs": [
    {
     "data": {
      "text/html": [
       "<div>\n",
       "<style>\n",
       "    .dataframe thead tr:only-child th {\n",
       "        text-align: right;\n",
       "    }\n",
       "\n",
       "    .dataframe thead th {\n",
       "        text-align: left;\n",
       "    }\n",
       "\n",
       "    .dataframe tbody tr th {\n",
       "        vertical-align: top;\n",
       "    }\n",
       "</style>\n",
       "<table border=\"1\" class=\"dataframe\">\n",
       "  <thead>\n",
       "    <tr style=\"text-align: right;\">\n",
       "      <th></th>\n",
       "      <th>X1</th>\n",
       "      <th>X2</th>\n",
       "      <th>X3</th>\n",
       "      <th>X4</th>\n",
       "      <th>X5</th>\n",
       "      <th>X6</th>\n",
       "      <th>X7</th>\n",
       "      <th>X8</th>\n",
       "      <th>Y1</th>\n",
       "      <th>Y2</th>\n",
       "    </tr>\n",
       "  </thead>\n",
       "  <tbody>\n",
       "    <tr>\n",
       "      <th>0</th>\n",
       "      <td>0.98</td>\n",
       "      <td>514.5</td>\n",
       "      <td>294.0</td>\n",
       "      <td>110.25</td>\n",
       "      <td>7.0</td>\n",
       "      <td>2</td>\n",
       "      <td>0.0</td>\n",
       "      <td>0</td>\n",
       "      <td>15.55</td>\n",
       "      <td>21.33</td>\n",
       "    </tr>\n",
       "    <tr>\n",
       "      <th>1</th>\n",
       "      <td>0.98</td>\n",
       "      <td>514.5</td>\n",
       "      <td>294.0</td>\n",
       "      <td>110.25</td>\n",
       "      <td>7.0</td>\n",
       "      <td>3</td>\n",
       "      <td>0.0</td>\n",
       "      <td>0</td>\n",
       "      <td>15.55</td>\n",
       "      <td>21.33</td>\n",
       "    </tr>\n",
       "    <tr>\n",
       "      <th>2</th>\n",
       "      <td>0.98</td>\n",
       "      <td>514.5</td>\n",
       "      <td>294.0</td>\n",
       "      <td>110.25</td>\n",
       "      <td>7.0</td>\n",
       "      <td>4</td>\n",
       "      <td>0.0</td>\n",
       "      <td>0</td>\n",
       "      <td>15.55</td>\n",
       "      <td>21.33</td>\n",
       "    </tr>\n",
       "    <tr>\n",
       "      <th>3</th>\n",
       "      <td>0.98</td>\n",
       "      <td>514.5</td>\n",
       "      <td>294.0</td>\n",
       "      <td>110.25</td>\n",
       "      <td>7.0</td>\n",
       "      <td>5</td>\n",
       "      <td>0.0</td>\n",
       "      <td>0</td>\n",
       "      <td>15.55</td>\n",
       "      <td>21.33</td>\n",
       "    </tr>\n",
       "    <tr>\n",
       "      <th>4</th>\n",
       "      <td>0.90</td>\n",
       "      <td>563.5</td>\n",
       "      <td>318.5</td>\n",
       "      <td>122.50</td>\n",
       "      <td>7.0</td>\n",
       "      <td>2</td>\n",
       "      <td>0.0</td>\n",
       "      <td>0</td>\n",
       "      <td>20.84</td>\n",
       "      <td>28.28</td>\n",
       "    </tr>\n",
       "  </tbody>\n",
       "</table>\n",
       "</div>"
      ],
      "text/plain": [
       "     X1     X2     X3      X4   X5  X6   X7  X8     Y1     Y2\n",
       "0  0.98  514.5  294.0  110.25  7.0   2  0.0   0  15.55  21.33\n",
       "1  0.98  514.5  294.0  110.25  7.0   3  0.0   0  15.55  21.33\n",
       "2  0.98  514.5  294.0  110.25  7.0   4  0.0   0  15.55  21.33\n",
       "3  0.98  514.5  294.0  110.25  7.0   5  0.0   0  15.55  21.33\n",
       "4  0.90  563.5  318.5  122.50  7.0   2  0.0   0  20.84  28.28"
      ]
     },
     "execution_count": 4,
     "metadata": {},
     "output_type": "execute_result"
    }
   ],
   "source": [
    "data.head()"
   ]
  },
  {
   "cell_type": "code",
   "execution_count": 5,
   "metadata": {},
   "outputs": [
    {
     "name": "stdout",
     "output_type": "stream",
     "text": [
      "<class 'pandas.core.frame.DataFrame'>\n",
      "RangeIndex: 768 entries, 0 to 767\n",
      "Data columns (total 10 columns):\n",
      "X1    768 non-null float64\n",
      "X2    768 non-null float64\n",
      "X3    768 non-null float64\n",
      "X4    768 non-null float64\n",
      "X5    768 non-null float64\n",
      "X6    768 non-null int64\n",
      "X7    768 non-null float64\n",
      "X8    768 non-null int64\n",
      "Y1    768 non-null float64\n",
      "Y2    768 non-null float64\n",
      "dtypes: float64(8), int64(2)\n",
      "memory usage: 60.1 KB\n"
     ]
    }
   ],
   "source": [
    "data.info()"
   ]
  },
  {
   "cell_type": "code",
   "execution_count": 6,
   "metadata": {},
   "outputs": [
    {
     "data": {
      "text/html": [
       "<div>\n",
       "<style>\n",
       "    .dataframe thead tr:only-child th {\n",
       "        text-align: right;\n",
       "    }\n",
       "\n",
       "    .dataframe thead th {\n",
       "        text-align: left;\n",
       "    }\n",
       "\n",
       "    .dataframe tbody tr th {\n",
       "        vertical-align: top;\n",
       "    }\n",
       "</style>\n",
       "<table border=\"1\" class=\"dataframe\">\n",
       "  <thead>\n",
       "    <tr style=\"text-align: right;\">\n",
       "      <th></th>\n",
       "      <th>X1</th>\n",
       "      <th>X2</th>\n",
       "      <th>X3</th>\n",
       "      <th>X4</th>\n",
       "      <th>X5</th>\n",
       "      <th>X6</th>\n",
       "      <th>X7</th>\n",
       "      <th>X8</th>\n",
       "      <th>Y1</th>\n",
       "      <th>Y2</th>\n",
       "    </tr>\n",
       "  </thead>\n",
       "  <tbody>\n",
       "    <tr>\n",
       "      <th>count</th>\n",
       "      <td>768.000000</td>\n",
       "      <td>768.000000</td>\n",
       "      <td>768.000000</td>\n",
       "      <td>768.000000</td>\n",
       "      <td>768.00000</td>\n",
       "      <td>768.000000</td>\n",
       "      <td>768.000000</td>\n",
       "      <td>768.00000</td>\n",
       "      <td>768.000000</td>\n",
       "      <td>768.000000</td>\n",
       "    </tr>\n",
       "    <tr>\n",
       "      <th>mean</th>\n",
       "      <td>0.764167</td>\n",
       "      <td>671.708333</td>\n",
       "      <td>318.500000</td>\n",
       "      <td>176.604167</td>\n",
       "      <td>5.25000</td>\n",
       "      <td>3.500000</td>\n",
       "      <td>0.234375</td>\n",
       "      <td>2.81250</td>\n",
       "      <td>22.307201</td>\n",
       "      <td>24.587760</td>\n",
       "    </tr>\n",
       "    <tr>\n",
       "      <th>std</th>\n",
       "      <td>0.105777</td>\n",
       "      <td>88.086116</td>\n",
       "      <td>43.626481</td>\n",
       "      <td>45.165950</td>\n",
       "      <td>1.75114</td>\n",
       "      <td>1.118763</td>\n",
       "      <td>0.133221</td>\n",
       "      <td>1.55096</td>\n",
       "      <td>10.090196</td>\n",
       "      <td>9.513306</td>\n",
       "    </tr>\n",
       "    <tr>\n",
       "      <th>min</th>\n",
       "      <td>0.620000</td>\n",
       "      <td>514.500000</td>\n",
       "      <td>245.000000</td>\n",
       "      <td>110.250000</td>\n",
       "      <td>3.50000</td>\n",
       "      <td>2.000000</td>\n",
       "      <td>0.000000</td>\n",
       "      <td>0.00000</td>\n",
       "      <td>6.010000</td>\n",
       "      <td>10.900000</td>\n",
       "    </tr>\n",
       "    <tr>\n",
       "      <th>25%</th>\n",
       "      <td>0.682500</td>\n",
       "      <td>606.375000</td>\n",
       "      <td>294.000000</td>\n",
       "      <td>140.875000</td>\n",
       "      <td>3.50000</td>\n",
       "      <td>2.750000</td>\n",
       "      <td>0.100000</td>\n",
       "      <td>1.75000</td>\n",
       "      <td>12.992500</td>\n",
       "      <td>15.620000</td>\n",
       "    </tr>\n",
       "    <tr>\n",
       "      <th>50%</th>\n",
       "      <td>0.750000</td>\n",
       "      <td>673.750000</td>\n",
       "      <td>318.500000</td>\n",
       "      <td>183.750000</td>\n",
       "      <td>5.25000</td>\n",
       "      <td>3.500000</td>\n",
       "      <td>0.250000</td>\n",
       "      <td>3.00000</td>\n",
       "      <td>18.950000</td>\n",
       "      <td>22.080000</td>\n",
       "    </tr>\n",
       "    <tr>\n",
       "      <th>75%</th>\n",
       "      <td>0.830000</td>\n",
       "      <td>741.125000</td>\n",
       "      <td>343.000000</td>\n",
       "      <td>220.500000</td>\n",
       "      <td>7.00000</td>\n",
       "      <td>4.250000</td>\n",
       "      <td>0.400000</td>\n",
       "      <td>4.00000</td>\n",
       "      <td>31.667500</td>\n",
       "      <td>33.132500</td>\n",
       "    </tr>\n",
       "    <tr>\n",
       "      <th>max</th>\n",
       "      <td>0.980000</td>\n",
       "      <td>808.500000</td>\n",
       "      <td>416.500000</td>\n",
       "      <td>220.500000</td>\n",
       "      <td>7.00000</td>\n",
       "      <td>5.000000</td>\n",
       "      <td>0.400000</td>\n",
       "      <td>5.00000</td>\n",
       "      <td>43.100000</td>\n",
       "      <td>48.030000</td>\n",
       "    </tr>\n",
       "  </tbody>\n",
       "</table>\n",
       "</div>"
      ],
      "text/plain": [
       "               X1          X2          X3          X4         X5          X6  \\\n",
       "count  768.000000  768.000000  768.000000  768.000000  768.00000  768.000000   \n",
       "mean     0.764167  671.708333  318.500000  176.604167    5.25000    3.500000   \n",
       "std      0.105777   88.086116   43.626481   45.165950    1.75114    1.118763   \n",
       "min      0.620000  514.500000  245.000000  110.250000    3.50000    2.000000   \n",
       "25%      0.682500  606.375000  294.000000  140.875000    3.50000    2.750000   \n",
       "50%      0.750000  673.750000  318.500000  183.750000    5.25000    3.500000   \n",
       "75%      0.830000  741.125000  343.000000  220.500000    7.00000    4.250000   \n",
       "max      0.980000  808.500000  416.500000  220.500000    7.00000    5.000000   \n",
       "\n",
       "               X7         X8          Y1          Y2  \n",
       "count  768.000000  768.00000  768.000000  768.000000  \n",
       "mean     0.234375    2.81250   22.307201   24.587760  \n",
       "std      0.133221    1.55096   10.090196    9.513306  \n",
       "min      0.000000    0.00000    6.010000   10.900000  \n",
       "25%      0.100000    1.75000   12.992500   15.620000  \n",
       "50%      0.250000    3.00000   18.950000   22.080000  \n",
       "75%      0.400000    4.00000   31.667500   33.132500  \n",
       "max      0.400000    5.00000   43.100000   48.030000  "
      ]
     },
     "execution_count": 6,
     "metadata": {},
     "output_type": "execute_result"
    }
   ],
   "source": [
    "data.describe()"
   ]
  },
  {
   "cell_type": "code",
   "execution_count": 25,
   "metadata": {},
   "outputs": [],
   "source": [
    "X=data.drop(['Y1','Y2'],axis=1)\n",
    "y=data[['Y1','Y2']]\n",
    "y1=data['Y1']\n",
    "y2=data['Y2']"
   ]
  },
  {
   "cell_type": "code",
   "execution_count": 12,
   "metadata": {},
   "outputs": [
    {
     "data": {
      "text/html": [
       "<div>\n",
       "<style>\n",
       "    .dataframe thead tr:only-child th {\n",
       "        text-align: right;\n",
       "    }\n",
       "\n",
       "    .dataframe thead th {\n",
       "        text-align: left;\n",
       "    }\n",
       "\n",
       "    .dataframe tbody tr th {\n",
       "        vertical-align: top;\n",
       "    }\n",
       "</style>\n",
       "<table border=\"1\" class=\"dataframe\">\n",
       "  <thead>\n",
       "    <tr style=\"text-align: right;\">\n",
       "      <th></th>\n",
       "      <th>X1</th>\n",
       "      <th>X2</th>\n",
       "      <th>X3</th>\n",
       "      <th>X4</th>\n",
       "      <th>X5</th>\n",
       "      <th>X6</th>\n",
       "      <th>X7</th>\n",
       "      <th>X8</th>\n",
       "    </tr>\n",
       "  </thead>\n",
       "  <tbody>\n",
       "    <tr>\n",
       "      <th>count</th>\n",
       "      <td>768.000000</td>\n",
       "      <td>768.000000</td>\n",
       "      <td>768.000000</td>\n",
       "      <td>768.000000</td>\n",
       "      <td>768.00000</td>\n",
       "      <td>768.000000</td>\n",
       "      <td>768.000000</td>\n",
       "      <td>768.00000</td>\n",
       "    </tr>\n",
       "    <tr>\n",
       "      <th>mean</th>\n",
       "      <td>0.764167</td>\n",
       "      <td>671.708333</td>\n",
       "      <td>318.500000</td>\n",
       "      <td>176.604167</td>\n",
       "      <td>5.25000</td>\n",
       "      <td>3.500000</td>\n",
       "      <td>0.234375</td>\n",
       "      <td>2.81250</td>\n",
       "    </tr>\n",
       "    <tr>\n",
       "      <th>std</th>\n",
       "      <td>0.105777</td>\n",
       "      <td>88.086116</td>\n",
       "      <td>43.626481</td>\n",
       "      <td>45.165950</td>\n",
       "      <td>1.75114</td>\n",
       "      <td>1.118763</td>\n",
       "      <td>0.133221</td>\n",
       "      <td>1.55096</td>\n",
       "    </tr>\n",
       "    <tr>\n",
       "      <th>min</th>\n",
       "      <td>0.620000</td>\n",
       "      <td>514.500000</td>\n",
       "      <td>245.000000</td>\n",
       "      <td>110.250000</td>\n",
       "      <td>3.50000</td>\n",
       "      <td>2.000000</td>\n",
       "      <td>0.000000</td>\n",
       "      <td>0.00000</td>\n",
       "    </tr>\n",
       "    <tr>\n",
       "      <th>25%</th>\n",
       "      <td>0.682500</td>\n",
       "      <td>606.375000</td>\n",
       "      <td>294.000000</td>\n",
       "      <td>140.875000</td>\n",
       "      <td>3.50000</td>\n",
       "      <td>2.750000</td>\n",
       "      <td>0.100000</td>\n",
       "      <td>1.75000</td>\n",
       "    </tr>\n",
       "    <tr>\n",
       "      <th>50%</th>\n",
       "      <td>0.750000</td>\n",
       "      <td>673.750000</td>\n",
       "      <td>318.500000</td>\n",
       "      <td>183.750000</td>\n",
       "      <td>5.25000</td>\n",
       "      <td>3.500000</td>\n",
       "      <td>0.250000</td>\n",
       "      <td>3.00000</td>\n",
       "    </tr>\n",
       "    <tr>\n",
       "      <th>75%</th>\n",
       "      <td>0.830000</td>\n",
       "      <td>741.125000</td>\n",
       "      <td>343.000000</td>\n",
       "      <td>220.500000</td>\n",
       "      <td>7.00000</td>\n",
       "      <td>4.250000</td>\n",
       "      <td>0.400000</td>\n",
       "      <td>4.00000</td>\n",
       "    </tr>\n",
       "    <tr>\n",
       "      <th>max</th>\n",
       "      <td>0.980000</td>\n",
       "      <td>808.500000</td>\n",
       "      <td>416.500000</td>\n",
       "      <td>220.500000</td>\n",
       "      <td>7.00000</td>\n",
       "      <td>5.000000</td>\n",
       "      <td>0.400000</td>\n",
       "      <td>5.00000</td>\n",
       "    </tr>\n",
       "  </tbody>\n",
       "</table>\n",
       "</div>"
      ],
      "text/plain": [
       "               X1          X2          X3          X4         X5          X6  \\\n",
       "count  768.000000  768.000000  768.000000  768.000000  768.00000  768.000000   \n",
       "mean     0.764167  671.708333  318.500000  176.604167    5.25000    3.500000   \n",
       "std      0.105777   88.086116   43.626481   45.165950    1.75114    1.118763   \n",
       "min      0.620000  514.500000  245.000000  110.250000    3.50000    2.000000   \n",
       "25%      0.682500  606.375000  294.000000  140.875000    3.50000    2.750000   \n",
       "50%      0.750000  673.750000  318.500000  183.750000    5.25000    3.500000   \n",
       "75%      0.830000  741.125000  343.000000  220.500000    7.00000    4.250000   \n",
       "max      0.980000  808.500000  416.500000  220.500000    7.00000    5.000000   \n",
       "\n",
       "               X7         X8  \n",
       "count  768.000000  768.00000  \n",
       "mean     0.234375    2.81250  \n",
       "std      0.133221    1.55096  \n",
       "min      0.000000    0.00000  \n",
       "25%      0.100000    1.75000  \n",
       "50%      0.250000    3.00000  \n",
       "75%      0.400000    4.00000  \n",
       "max      0.400000    5.00000  "
      ]
     },
     "execution_count": 12,
     "metadata": {},
     "output_type": "execute_result"
    }
   ],
   "source": [
    "X.describe()"
   ]
  },
  {
   "cell_type": "code",
   "execution_count": 14,
   "metadata": {},
   "outputs": [
    {
     "data": {
      "text/plain": [
       "array([[<matplotlib.axes._subplots.AxesSubplot object at 0x000000CFCD56A400>,\n",
       "        <matplotlib.axes._subplots.AxesSubplot object at 0x000000CFCD79A588>,\n",
       "        <matplotlib.axes._subplots.AxesSubplot object at 0x000000CFCD7D4588>],\n",
       "       [<matplotlib.axes._subplots.AxesSubplot object at 0x000000CFCD80CAC8>,\n",
       "        <matplotlib.axes._subplots.AxesSubplot object at 0x000000CFCD845A90>,\n",
       "        <matplotlib.axes._subplots.AxesSubplot object at 0x000000CFCD845AC8>],\n",
       "       [<matplotlib.axes._subplots.AxesSubplot object at 0x000000CFCD8A8EF0>,\n",
       "        <matplotlib.axes._subplots.AxesSubplot object at 0x000000CFCD8E3EF0>,\n",
       "        <matplotlib.axes._subplots.AxesSubplot object at 0x000000CFCD91DEF0>]], dtype=object)"
      ]
     },
     "execution_count": 14,
     "metadata": {},
     "output_type": "execute_result"
    },
    {
     "data": {
      "image/png": "[encoded data removed]",
      "text/plain": [
       "<matplotlib.figure.Figure at 0xcfcd2fa1d0>"
      ]
     },
     "metadata": {},
     "output_type": "display_data"
    }
   ],
   "source": [
    "X.hist(bins=8,figsize=(8,8))"
   ]
  },
  {
   "cell_type": "code",
   "execution_count": 18,
   "metadata": {},
   "outputs": [
    {
     "data": {
      "text/plain": [
       "(768, 10)"
      ]
     },
     "execution_count": 18,
     "metadata": {},
     "output_type": "execute_result"
    }
   ],
   "source": [
    "data.shape"
   ]
  },
  {
   "cell_type": "code",
   "execution_count": 26,
   "metadata": {},
   "outputs": [
    {
     "data": {
      "text/plain": [
       "(array([ 118.,  204.,   61.,   29.,   73.,   94.,   98.,   56.,   21.,   14.]),\n",
       " array([ 10.9  ,  14.613,  18.326,  22.039,  25.752,  29.465,  33.178,\n",
       "         36.891,  40.604,  44.317,  48.03 ]),\n",
       " <a list of 10 Patch objects>)"
      ]
     },
     "execution_count": 26,
     "metadata": {},
     "output_type": "execute_result"
    },
    {
     "data": {
      "image/png": "[encoded data removed]",
      "text/plain": [
       "<matplotlib.figure.Figure at 0xcfcda62c88>"
      ]
     },
     "metadata": {},
     "output_type": "display_data"
    }
   ],
   "source": [
    "plt.hist((y1))\n",
    "\n",
    "plt.hist((y2))"
   ]
  },
  {
   "cell_type": "code",
   "execution_count": 84,
   "metadata": {
    "collapsed": true
   },
   "outputs": [],
   "source": [
    "from sklearn.model_selection import train_test_split\n",
    "from sklearn.linear_model import LinearRegression\n",
    "X1_train,X1_test,y1_train,y1_test=train_test_split(X,y1,test_size=0.2,random_state=10)\n",
    "X2_train,X2_test,y2_train,y2_test=train_test_split(X,y2,test_size=0.2,random_state=10)\n"
   ]
  },
  {
   "cell_type": "markdown",
   "metadata": {},
   "source": [
    "# Linear Regression"
   ]
  },
  {
   "cell_type": "code",
   "execution_count": 85,
   "metadata": {},
   "outputs": [
    {
     "data": {
      "text/plain": [
       "LinearRegression(copy_X=True, fit_intercept=True, n_jobs=1, normalize=False)"
      ]
     },
     "execution_count": 85,
     "metadata": {},
     "output_type": "execute_result"
    }
   ],
   "source": [
    "lr=LinearRegression()\n",
    "lr.fit(X1_train,y1_train)\n",
    "lr.fit(X2_train,y2_train)\n"
   ]
  },
  {
   "cell_type": "code",
   "execution_count": 86,
   "metadata": {},
   "outputs": [
    {
     "name": "stdout",
     "output_type": "stream",
     "text": [
      "Train score: 0.85\n",
      "Train score: 0.88\n",
      "Test score: 0.87\n",
      "Test score: 0.91\n"
     ]
    }
   ],
   "source": [
    "print('Train score: {0:0.2f}'.format(lr.score(X1_train,y1_train)))\n",
    "print('Train score: {0:0.2f}'.format(lr.score(X2_train,y2_train)))\n",
    "print('Test score: {0:0.2f}'.format(lr.score(X1_test,y1_test)))\n",
    "print('Test score: {0:0.2f}'.format(lr.score(X2_test,y2_test)))"
   ]
  },
  {
   "cell_type": "code",
   "execution_count": 88,
   "metadata": {},
   "outputs": [
    {
     "data": {
      "text/plain": [
       "array([ 19.38841623,  19.86636923,  14.21466747,  29.85930237,\n",
       "        19.87720821,  10.84766993,  14.82662443,  32.19983858,\n",
       "        31.66665361,  17.81705174,  29.78607694,  16.8635108 ,\n",
       "        13.91131478,  32.46583996,  34.52599644,  19.0400956 ,\n",
       "        39.92213944,  13.72954421,  33.70165426,  13.98689738,\n",
       "        29.69965536,  15.96884688,  31.98260243,  31.63476113,\n",
       "        17.24594051,  27.68270968,  15.34368588,  33.56528524,\n",
       "        29.92244596,  17.59469475,  14.79661768,  15.09936246,\n",
       "        15.78926708,  34.84194526,  32.14224944,  29.34049575,\n",
       "        31.71660105,  12.06808941,  18.12216158,  27.18718105,\n",
       "        17.73106377,  27.54634066,  33.88123406,  32.12181584,\n",
       "        34.36155212,  39.78577042,  17.06636071,  31.93939164,\n",
       "        12.47045982,  35.88824807,  13.65396161,  35.62544171,\n",
       "        15.38689667,  17.66984374,  34.11598434,  18.95367402,\n",
       "        15.96928049,  15.00620423,  14.65378127,  30.01171193,\n",
       "        31.67339026,  18.20858316,  17.80621276,  34.88515605,\n",
       "        20.04594904,  17.11630814,  11.94475014,  33.92444485,\n",
       "        13.20838042,  31.78982648,  40.14493003,  17.71305453,\n",
       "        34.43193316,  14.96299344,  31.84623342,  17.96059101,\n",
       "        27.14397026,  17.55105035,  18.0793844 ,  20.49153023,\n",
       "        31.8922886 ,  17.41468134,  34.79199782,  29.38655093,\n",
       "        15.92563609,  35.98460132,  15.69610885,  31.94223603,\n",
       "        27.32355007,  15.7028455 ,  20.17558141,  29.87923517,\n",
       "        17.94258178,  35.79508984,  19.53562423,  15.35495847,\n",
       "        29.42976172,  34.33877493,  36.25060271,  34.38198572,\n",
       "        13.47657257,  35.30629786,  13.95907145,  12.15451099,\n",
       "        34.65472375,  29.72293336,  29.59330099,  17.23510153,\n",
       "        14.7101961 ,  29.56639005,  36.90210173,  14.47420146,\n",
       "        17.64464219,  38.04156277,  32.25144821,  13.37712125,\n",
       "        16.10564951,  15.08178683,  18.39533322,  14.57382708,\n",
       "        31.36875975,  29.5500902 ,  15.6709073 ,  32.14898609,\n",
       "        29.52291995,  17.95385437,  12.37949235,  33.47212701,\n",
       "        32.32182925,  32.82499958,  16.90672159,  15.62769651,\n",
       "        32.3285659 ,  20.00273825,  37.67566651,  34.35481547,\n",
       "        37.76882474,  13.30153865,  14.51741225,  31.96266964,\n",
       "        17.75626532,  29.67972257,  37.68240316,  34.56156553,\n",
       "        40.36772063,  20.09999881,  35.71186329,  18.38859658,\n",
       "        13.0720114 ,  12.01814198,  18.34538579,  27.50312987,\n",
       "        14.00228224,  16.1488603 ])"
      ]
     },
     "execution_count": 88,
     "metadata": {},
     "output_type": "execute_result"
    }
   ],
   "source": [
    "lr.predict(X1_test)\n",
    "lr.predict(X2_test)"
   ]
  },
  {
   "cell_type": "code",
   "execution_count": 89,
   "metadata": {
    "collapsed": true
   },
   "outputs": [],
   "source": [
    "#Linear Regression with Scaling\n",
    "scaler = MinMaxScaler()\n",
    "X1_train_scaled = scaler.fit_transform(X1_train)\n",
    "X1_test_scaled = scaler.transform(X1_test)\n",
    "X2_train_scaled = scaler.fit_transform(X2_train)\n",
    "X2_test_scaled = scaler.transform(X2_test)"
   ]
  },
  {
   "cell_type": "code",
   "execution_count": 97,
   "metadata": {},
   "outputs": [
    {
     "name": "stdout",
     "output_type": "stream",
     "text": [
      "Linear reg1 Train score: 0.9123\n",
      "Linear reg1 Train score: 0.8110\n",
      "Linear reg2 Test score: 0.8660\n",
      "Linear reg2 Test score: 0.9080\n"
     ]
    }
   ],
   "source": [
    "lrs1=LinearRegression()\n",
    "lrs2=LinearRegression()\n",
    "lrs1.fit(X1_train_scaled,y1_train)\n",
    "lrs2.fit(X2_train_scaled,y2_train)\n",
    "print('Linear reg1 Train score: {0:0.4f}'.format(lrs1.score(X1_train_scaled,y1_train)))\n",
    "print('Linear reg1 Train score: {0:0.4f}'.format(lrs1.score(X2_train_scaled,y2_train)))\n",
    "print('Linear reg2 Test score: {0:0.4f}'.format(lrs2.score(X1_test_scaled,y1_test)))\n",
    "print('Linear reg2 Test score: {0:0.4f}'.format(lrs2.score(X2_test_scaled,y2_test)))"
   ]
  },
  {
   "cell_type": "markdown",
   "metadata": {},
   "source": [
    "# Ridge Regression"
   ]
  },
  {
   "cell_type": "code",
   "execution_count": 101,
   "metadata": {},
   "outputs": [
    {
     "data": {
      "text/plain": [
       "GridSearchCV(cv=5, error_score='raise',\n",
       "       estimator=Ridge(alpha=1.0, copy_X=True, fit_intercept=True, max_iter=None,\n",
       "   normalize=False, random_state=None, solver='auto', tol=0.001),\n",
       "       fit_params=None, iid=True, n_jobs=1,\n",
       "       param_grid={'alpha': [0.001, 0.01, 0.1, 1, 10, 100]},\n",
       "       pre_dispatch='2*n_jobs', refit=True, return_train_score='warn',\n",
       "       scoring=None, verbose=0)"
      ]
     },
     "execution_count": 101,
     "metadata": {},
     "output_type": "execute_result"
    }
   ],
   "source": [
    "from sklearn.linear_model import Ridge\n",
    "param_grid = {'alpha':[0.001, 0.01, 0.1, 1, 10, 100]}\n",
    "ridge=Ridge()              \n",
    "\n",
    "grid_search1 = GridSearchCV(ridge, param_grid, cv=5)\n",
    "grid_search2 = GridSearchCV(ridge, param_grid, cv=5)\n",
    "\n",
    "grid_search1.fit(X1_train, y1_train)\n",
    "grid_search2.fit(X2_train, y2_train)"
   ]
  },
  {
   "cell_type": "code",
   "execution_count": 108,
   "metadata": {},
   "outputs": [
    {
     "name": "stdout",
     "output_type": "stream",
     "text": [
      "Best parameters model1{'alpha': 0.001}\n",
      "Best parameters model2{'alpha': 0.001}\n",
      "Best score model1 0.91\n",
      "Best score model2 0.88\n"
     ]
    }
   ],
   "source": [
    "print('Best parameters model1{}'.format(grid_search1.best_params_))\n",
    "print('Best parameters model2{}'.format(grid_search2.best_params_))\n",
    "print('Best score model1 {:.2f}'.format(grid_search1.best_score_))\n",
    "print('Best score model2 {:.2f}'.format(grid_search2.best_score_))\n"
   ]
  },
  {
   "cell_type": "code",
   "execution_count": 103,
   "metadata": {},
   "outputs": [
    {
     "name": "stdout",
     "output_type": "stream",
     "text": [
      "ridge regression linear model1 intercept: 28.941003644318616\n",
      "ridge regression linear model1 coeff:\n",
      "[-22.22266313  -8.01226663   0.88868768 -11.3742237   15.37787437\n",
      "  -0.05571524   8.15788575   1.05825817]\n",
      "Number of non-zero features: 8\n"
     ]
    }
   ],
   "source": [
    "from sklearn.linear_model import Ridge\n",
    "\n",
    "linridge1 = Ridge(alpha=0.001).fit(X1_train_scaled, y1_train)\n",
    "linridge2 = Ridge(alpha=0.001).fit(X2_train_scaled, y2_train)\n",
    "\n",
    "\n",
    "print('ridge regression linear model1 intercept: {}'\n",
    "     .format(linridge1.intercept_))\n",
    "print('ridge regression linear model1 coeff:\\n{}'\n",
    "     .format(linridge1.coef_))\n",
    "\n",
    "print('Number of non-zero features: {}'\n",
    "     .format(np.sum(linridge1.coef_ != 0)))"
   ]
  },
  {
   "cell_type": "code",
   "execution_count": 106,
   "metadata": {},
   "outputs": [
    {
     "name": "stdout",
     "output_type": "stream",
     "text": [
      "Ridge1 R-squared score (training): 0.912\n",
      "Ridge2 R-squared score (training): 0.882\n",
      "Ridge1 R-squared score (test): 0.849\n",
      "Ridge2 R-squared score (test): 0.908\n"
     ]
    }
   ],
   "source": [
    "print('Ridge1 R-squared score (training): {:.3f}'\n",
    "     .format(linridge1.score(X1_train_scaled, y1_train)))\n",
    "print('Ridge2 R-squared score (training): {:.3f}'\n",
    "     .format(linridge2.score(X2_train_scaled, y2_train)))\n",
    "print('Ridge1 R-squared score (test): {:.3f}'\n",
    "     .format(linridge1.score(X1_test_scaled, y2_test)))\n",
    "print('Ridge2 R-squared score (test): {:.3f}'\n",
    "     .format(linridge2.score(X1_test_scaled, y2_test)))"
   ]
  },
  {
   "cell_type": "markdown",
   "metadata": {},
   "source": [
    "# Lasso Regression"
   ]
  },
  {
   "cell_type": "code",
   "execution_count": 110,
   "metadata": {},
   "outputs": [
    {
     "data": {
      "text/plain": [
       "GridSearchCV(cv=5, error_score='raise',\n",
       "       estimator=Lasso(alpha=1.0, copy_X=True, fit_intercept=True, max_iter=10000,\n",
       "   normalize=False, positive=False, precompute=False, random_state=None,\n",
       "   selection='cyclic', tol=0.0001, warm_start=False),\n",
       "       fit_params=None, iid=True, n_jobs=1,\n",
       "       param_grid={'alpha': [0.001, 0.01, 0.1, 1, 10, 100]},\n",
       "       pre_dispatch='2*n_jobs', refit=True, return_train_score='warn',\n",
       "       scoring=None, verbose=0)"
      ]
     },
     "execution_count": 110,
     "metadata": {},
     "output_type": "execute_result"
    }
   ],
   "source": [
    "from sklearn.linear_model import Lasso\n",
    "param_grid = {'alpha':[0.001, 0.01, 0.1, 1, 10, 100]}\n",
    "lasso=Lasso(max_iter=10000)              \n",
    "\n",
    "grid_searchls1 = GridSearchCV(lasso, param_grid, cv=5)\n",
    "grid_searchls2 = GridSearchCV(lasso, param_grid, cv=5)\n",
    "\n",
    "grid_searchls1.fit(X1_train_scaled, y1_train)\n",
    "grid_searchls2.fit(X2_train_scaled, y2_train)"
   ]
  },
  {
   "cell_type": "code",
   "execution_count": 111,
   "metadata": {},
   "outputs": [
    {
     "name": "stdout",
     "output_type": "stream",
     "text": [
      "Best parameters model1{'alpha': 0.001}\n",
      "Best parameters model2{'alpha': 0.001}\n",
      "Best score model1 0.91\n",
      "Best score model2 0.88\n"
     ]
    }
   ],
   "source": [
    "print('Best parameters model1{}'.format(grid_searchls1.best_params_))\n",
    "print('Best parameters model2{}'.format(grid_searchls2.best_params_))\n",
    "print('Best score model1 {:.2f}'.format(grid_searchls1.best_score_))\n",
    "print('Best score model2 {:.2f}'.format(grid_searchls2.best_score_))"
   ]
  },
  {
   "cell_type": "code",
   "execution_count": 114,
   "metadata": {},
   "outputs": [
    {
     "name": "stdout",
     "output_type": "stream",
     "text": [
      "Lasso R-squared model1 value Train:0.85\n",
      "Lasso R-squared model2 value Train:0.88\n",
      " Lasso R-squared model1 value Test:0.87\n",
      " Lasso R-squared model2 value Test:0.91\n"
     ]
    }
   ],
   "source": [
    "lasso = Lasso(max_iter = 10000,alpha=0.001)\n",
    "ls1=lasso.fit(X1_train_scaled, y1_train)\n",
    "ls2=lasso.fit(X2_train_scaled, y2_train)\n",
    "\n",
    "print(\"Lasso R-squared model1 value Train:{:.2f}\".format(lasso.score(X1_train_scaled, y1_train)))\n",
    "print(\"Lasso R-squared model2 value Train:{:.2f}\".format(lasso.score(X2_train_scaled, y2_train)))\n",
    "print(\" Lasso R-squared model1 value Test:{:.2f}\".format(lasso.score(X1_test_scaled, y1_test)))\n",
    "print(\" Lasso R-squared model2 value Test:{:.2f}\".format(lasso.score(X1_test_scaled, y2_test)))"
   ]
  },
  {
   "cell_type": "markdown",
   "metadata": {},
   "source": [
    "# Decision Tree "
   ]
  },
  {
   "cell_type": "code",
   "execution_count": 115,
   "metadata": {},
   "outputs": [
    {
     "name": "stdout",
     "output_type": "stream",
     "text": [
      "Best parameters model1{'max_depth': 7, 'max_leaf_nodes': None, 'min_samples_leaf': 1, 'min_samples_split': 20}\n",
      "Best parameters model2{'max_depth': 7, 'max_leaf_nodes': None, 'min_samples_leaf': 1, 'min_samples_split': 20}\n",
      "Best score model1 0.96\n",
      "Best score model2 0.96\n"
     ]
    }
   ],
   "source": [
    "from sklearn.tree import DecisionTreeRegressor\n",
    "parameters = {'max_depth':range(3,20), \"min_samples_split\": [2, 10, 20], \"min_samples_leaf\": [1, 5, 10], \n",
    "              \"max_leaf_nodes\": [None, 5, 10, 20]}\n",
    "grid = GridSearchCV(DecisionTreeRegressor(), parameters,)\n",
    "grid_result1 = grid.fit(X1_train_scaled, y1_train)\n",
    "grid_result2 = grid.fit(X2_train_scaled, y2_train)\n",
    "print('Best parameters model1{}'.format(grid_result1.best_params_))\n",
    "print('Best parameters model2{}'.format(grid_result2.best_params_))\n",
    "print('Best score model1 {:.2f}'.format(grid_result1.best_score_))\n",
    "print('Best score model2 {:.2f}'.format(grid_result2.best_score_))"
   ]
  },
  {
   "cell_type": "code",
   "execution_count": 117,
   "metadata": {},
   "outputs": [
    {
     "name": "stdout",
     "output_type": "stream",
     "text": [
      "Train score: 0.9967\n",
      "Train score: 0.9722\n",
      "Test score: 0.9968\n",
      "Test score: 0.9652\n"
     ]
    }
   ],
   "source": [
    "dt_clf1 = DecisionTreeRegressor(max_depth=7, max_leaf_nodes=None, min_samples_leaf=5, min_samples_split= 2)\n",
    "dt_clf2 = DecisionTreeRegressor(max_depth=7, max_leaf_nodes=None, min_samples_leaf=5, min_samples_split= 2)\n",
    "dt_clf1.fit(X1_train_scaled,y1_train)\n",
    "dt_clf2.fit(X2_train_scaled,y2_train)\n",
    "\n",
    "y_dt_clf1 = dt_clf1.predict(X1_test_scaled)\n",
    "print('Train score: {0:0.4f}'.format(dt_clf1.score(X1_train_scaled, y1_train)))\n",
    "print('Train score: {0:0.4f}'.format(dt_clf2.score(X2_train_scaled, y2_train)))\n",
    "print('Test score: {0:0.4f}'.format(dt_clf1.score(X1_test_scaled, y1_test)))\n",
    "print('Test score: {0:0.4f}'.format(dt_clf2.score(X2_test_scaled, y2_test)))"
   ]
  },
  {
   "cell_type": "markdown",
   "metadata": {},
   "source": [
    "# Ensemble\n",
    "## Random Forest"
   ]
  },
  {
   "cell_type": "code",
   "execution_count": 118,
   "metadata": {},
   "outputs": [
    {
     "name": "stdout",
     "output_type": "stream",
     "text": [
      "Best parameters model1{'max_depth': 25, 'min_samples_leaf': 1, 'n_estimators': 55}\n",
      "Best parameters model2{'max_depth': 25, 'min_samples_leaf': 1, 'n_estimators': 55}\n"
     ]
    }
   ],
   "source": [
    "from sklearn.ensemble import RandomForestRegressor\n",
    "rfc = RandomForestRegressor( max_features='sqrt', oob_score = True) \n",
    "\n",
    "param_grid = { \n",
    "           \"n_estimators\" : range(50,59),\n",
    "           \"max_depth\" : [1, 5, 10, 15, 20, 25, 30],\n",
    "           \"min_samples_leaf\" : [1, 2, 4, 6, 8, 10]}\n",
    "\n",
    "grid = GridSearchCV(estimator=rfc, param_grid=param_grid, cv= 10)\n",
    "grid_result3 = grid.fit(X1_train_scaled, y1_train)\n",
    "grid_result4 = grid.fit(X2_train_scaled, y2_train)\n",
    "print('Best parameters model1{}'.format(grid_result3.best_params_))\n",
    "print('Best parameters model2{}'.format(grid_result4.best_params_))"
   ]
  },
  {
   "cell_type": "code",
   "execution_count": 119,
   "metadata": {},
   "outputs": [
    {
     "name": "stdout",
     "output_type": "stream",
     "text": [
      "Train score model1: 1.00\n",
      "Train score model2: 0.99\n",
      "Test score model1: 1.00\n",
      "Test score model2: 0.97\n"
     ]
    }
   ],
   "source": [
    "rf_clf1 = RandomForestRegressor(max_depth=25, min_samples_leaf=2, n_estimators=18)\n",
    "rf_clf2 = RandomForestRegressor(max_depth=25, min_samples_leaf=2, n_estimators=18)\n",
    "rf_clf1.fit(X1_train_scaled,y1_train)\n",
    "rf_clf2.fit(X2_train_scaled,y2_train)\n",
    "\n",
    "y_rf_clf1 = rf_clf.predict(X1_test_scaled)\n",
    "print('Train score model1: {0:0.2f}'.format(rf_clf1.score(X1_train_scaled, y1_train)))\n",
    "print('Train score model2: {0:0.2f}'.format(rf_clf2.score(X2_train_scaled, y2_train)))\n",
    "print('Test score model1: {0:0.2f}'.format(rf_clf1.score(X1_test_scaled, y1_test)))\n",
    "print('Test score model2: {0:0.2f}'.format(rf_clf2.score(X2_test_scaled, y2_test)))"
   ]
  },
  {
   "cell_type": "markdown",
   "metadata": {},
   "source": [
    "# Bagging on Base models"
   ]
  },
  {
   "cell_type": "code",
   "execution_count": 127,
   "metadata": {},
   "outputs": [
    {
     "name": "stdout",
     "output_type": "stream",
     "text": [
      "Train score linear model1: 0.62\n",
      "Train scorelinear model2: 0.50\n",
      "out of bag score linear model1: 0.58\n",
      "out of bag score linear model2: 0.40\n",
      " \n",
      "\n",
      "Train score ridge model1: 0.32\n",
      "Train score ridge model2: 0.49\n",
      "out of bag score ridge model1: 0.27\n",
      "out of bag score ridge model2: 0.40\n",
      " \n",
      "\n",
      "Train score decision tree1: 0.71\n",
      "Train score decision tree2: 0.44\n",
      "out of bag score decision tree1: 0.64\n",
      "out of bag score decision tree2: 0.38\n"
     ]
    },
    {
     "name": "stderr",
     "output_type": "stream",
     "text": [
      "C:\\Users\\SaiKrishna\\Anaconda3\\lib\\site-packages\\sklearn\\ensemble\\bagging.py:987: UserWarning: Some inputs do not have OOB scores. This probably means too few estimators were used to compute any reliable oob estimates.\n",
      "  warn(\"Some inputs do not have OOB scores. \"\n",
      "C:\\Users\\SaiKrishna\\Anaconda3\\lib\\site-packages\\sklearn\\ensemble\\bagging.py:987: UserWarning: Some inputs do not have OOB scores. This probably means too few estimators were used to compute any reliable oob estimates.\n",
      "  warn(\"Some inputs do not have OOB scores. \"\n",
      "C:\\Users\\SaiKrishna\\Anaconda3\\lib\\site-packages\\sklearn\\ensemble\\bagging.py:987: UserWarning: Some inputs do not have OOB scores. This probably means too few estimators were used to compute any reliable oob estimates.\n",
      "  warn(\"Some inputs do not have OOB scores. \"\n",
      "C:\\Users\\SaiKrishna\\Anaconda3\\lib\\site-packages\\sklearn\\ensemble\\bagging.py:987: UserWarning: Some inputs do not have OOB scores. This probably means too few estimators were used to compute any reliable oob estimates.\n",
      "  warn(\"Some inputs do not have OOB scores. \"\n",
      "C:\\Users\\SaiKrishna\\Anaconda3\\lib\\site-packages\\sklearn\\ensemble\\bagging.py:987: UserWarning: Some inputs do not have OOB scores. This probably means too few estimators were used to compute any reliable oob estimates.\n",
      "  warn(\"Some inputs do not have OOB scores. \"\n",
      "C:\\Users\\SaiKrishna\\Anaconda3\\lib\\site-packages\\sklearn\\ensemble\\bagging.py:987: UserWarning: Some inputs do not have OOB scores. This probably means too few estimators were used to compute any reliable oob estimates.\n",
      "  warn(\"Some inputs do not have OOB scores. \"\n"
     ]
    }
   ],
   "source": [
    "from sklearn.ensemble import BaggingRegressor\n",
    "#bagging on linear and regression models\n",
    "scaler = MinMaxScaler().fit(X)\n",
    "X_scaled = scaler.transform(X)\n",
    "bagginglr1 = BaggingRegressor(lrs1, max_samples=0.8, max_features=0.2, bootstrap = True, oob_score=True)\n",
    "bagginglr2 = BaggingRegressor(lrs2, max_samples=0.8, max_features=0.2, bootstrap = True, oob_score=True)\n",
    "bagginglg1 = BaggingRegressor(linridge1, max_samples=0.8, max_features=0.2, bootstrap = True, oob_score=True)\n",
    "bagginglg2 = BaggingRegressor(linridge2, max_samples=0.8, max_features=0.2, bootstrap = True, oob_score=True)\n",
    "baggingdt1 = BaggingRegressor(dt_clf1, max_samples=0.8, max_features=0.2, bootstrap = True, oob_score=True)\n",
    "baggingdt2 = BaggingRegressor(dt_clf2, max_samples=0.8, max_features=0.2, bootstrap = True, oob_score=True)\n",
    "\n",
    "bagginglr1.fit(X_scaled,y1)\n",
    "bagginglr2.fit(X_scaled,y2)\n",
    "bagginglg1.fit(X_scaled,y1)\n",
    "bagginglg2.fit(X_scaled,y2)\n",
    "baggingdt1.fit(X_scaled,y1)\n",
    "baggingdt2.fit(X_scaled,y2)\n",
    "\n",
    "print('Train score linear model1: {0:0.2f}'.format(bagginglr1.score(X_scaled,y1)))\n",
    "print('Train scorelinear model2: {0:0.2f}'.format(bagginglr2.score(X_scaled,y2)))\n",
    "print('out of bag score linear model1: {0:0.2f}'.format(bagginglr1.oob_score_))\n",
    "print('out of bag score linear model2: {0:0.2f}'.format(bagginglr2.oob_score_))\n",
    "print(\" \\n\")\n",
    "print('Train score ridge model1: {0:0.2f}'.format(bagginglg1.score(X_scaled,y1)))\n",
    "print('Train score ridge model2: {0:0.2f}'.format(bagginglg2.score(X_scaled,y2)))\n",
    "print('out of bag score ridge model1: {0:0.2f}'.format(bagginglg1.oob_score_))\n",
    "print('out of bag score ridge model2: {0:0.2f}'.format(bagginglg2.oob_score_))\n",
    "print(\" \\n\")\n",
    "print('Train score decision tree1: {0:0.2f}'.format(baggingdt1.score(X_scaled,y1)))\n",
    "print('Train score decision tree2: {0:0.2f}'.format(baggingdt2.score(X_scaled,y2)))\n",
    "print('out of bag score decision tree1: {0:0.2f}'.format(baggingdt1.oob_score_))\n",
    "print('out of bag score decision tree2: {0:0.2f}'.format(baggingdt2.oob_score_))"
   ]
  },
  {
   "cell_type": "markdown",
   "metadata": {},
   "source": [
    "# Adaboost"
   ]
  },
  {
   "cell_type": "code",
   "execution_count": 132,
   "metadata": {},
   "outputs": [
    {
     "name": "stdout",
     "output_type": "stream",
     "text": [
      "Train score model1: 0.9105\n",
      "Train score model2: 0.8795\n",
      "Test score model1: 0.9245\n",
      "Test score model2: 0.8991\n",
      " \n",
      "\n",
      "Train score model1: 0.9106\n",
      "Train score model2: 0.8791\n",
      "Test score model1: 0.9265\n",
      "Test score model2: 0.9019\n",
      " \n",
      "\n",
      "Train score model1: 0.9984\n",
      "Train score model2: 0.9807\n",
      "Test score model1: 0.9970\n",
      "Test score model2: 0.9701\n"
     ]
    }
   ],
   "source": [
    "from sklearn.ensemble import AdaBoostRegressor\n",
    "#bagging on linear and regression models\n",
    "scaler = MinMaxScaler().fit(X)\n",
    "X_scaled = scaler.transform(X)\n",
    "#linear\n",
    "adaboost_lr1 = AdaBoostRegressor(base_estimator = lrs1, learning_rate = 0.5)\n",
    "adaboost_lr2 = AdaBoostRegressor(base_estimator = lrs2, learning_rate = 0.5)\n",
    "#ridge\n",
    "adaboost_rg1 = AdaBoostRegressor(base_estimator = linridge1, learning_rate = 0.5)\n",
    "adaboost_rg2 = AdaBoostRegressor(base_estimator = linridge2, learning_rate = 0.5)\n",
    "#decision tree\n",
    "\n",
    "adaboost_dt1 = AdaBoostRegressor(base_estimator = dt_clf1, learning_rate = 0.5)\n",
    "adaboost_dt2 = AdaBoostRegressor(base_estimator = dt_clf2, learning_rate = 0.5)\n",
    "\n",
    "adaboost_lr1.fit(X1_train_scaled, y1_train)\n",
    "adaboost_lr2.fit(X2_train_scaled, y2_train)\n",
    "adaboost_rg1.fit(X1_train_scaled, y1_train)\n",
    "adaboost_rg2.fit(X2_train_scaled, y2_train)\n",
    "adaboost_dt1.fit(X1_train_scaled, y1_train)\n",
    "adaboost_dt2.fit(X2_train_scaled, y2_train)\n",
    "\n",
    "print('Train score model1: {0:0.4f}'.format(adaboost_lr1.score(X1_train_scaled, y1_train)))\n",
    "print('Train score model2: {0:0.4f}'.format(adaboost_lr2.score(X2_train_scaled, y2_train)))\n",
    "print('Test score model1: {0:0.4f}'.format(adaboost_lr1.score(X1_test_scaled, y1_test)))\n",
    "print('Test score model2: {0:0.4f}'.format(adaboost_lr2.score(X2_test_scaled, y2_test)))\n",
    "print(\" \\n\")\n",
    "print('Train score model1: {0:0.4f}'.format(adaboost_rg1.score(X1_train_scaled, y1_train)))\n",
    "print('Train score model2: {0:0.4f}'.format(adaboost_rg2.score(X2_train_scaled, y2_train)))\n",
    "print('Test score model1: {0:0.4f}'.format(adaboost_rg1.score(X1_test_scaled, y1_test)))\n",
    "print('Test score model2: {0:0.4f}'.format(adaboost_rg2.score(X2_test_scaled, y2_test)))\n",
    "print(\" \\n\")\n",
    "print('Train score model1: {0:0.4f}'.format(adaboost_dt1.score(X1_train_scaled, y1_train)))\n",
    "print('Train score model2: {0:0.4f}'.format(adaboost_dt2.score(X2_train_scaled, y2_train)))\n",
    "print('Test score model1: {0:0.4f}'.format(adaboost_dt1.score(X1_test_scaled, y1_test)))\n",
    "print('Test score model2: {0:0.4f}'.format(adaboost_dt2.score(X2_test_scaled, y2_test)))"
   ]
  },
  {
   "cell_type": "markdown",
   "metadata": {},
   "source": [
    "# Nerual Network"
   ]
  },
  {
   "cell_type": "code",
   "execution_count": 133,
   "metadata": {
    "collapsed": true
   },
   "outputs": [],
   "source": [
    "y=y1+y2 #adding hot and cold loads"
   ]
  },
  {
   "cell_type": "code",
   "execution_count": 134,
   "metadata": {},
   "outputs": [
    {
     "data": {
      "text/plain": [
       "<matplotlib.axes._subplots.AxesSubplot at 0xcfceed2c88>"
      ]
     },
     "execution_count": 134,
     "metadata": {},
     "output_type": "execute_result"
    },
    {
     "data": {
      "image/png": "[encoded data removed]",
      "text/plain": [
       "<matplotlib.figure.Figure at 0xcfcddc06a0>"
      ]
     },
     "metadata": {},
     "output_type": "display_data"
    }
   ],
   "source": [
    "y.plot(kind='hist',bins=10) "
   ]
  },
  {
   "cell_type": "code",
   "execution_count": 136,
   "metadata": {},
   "outputs": [
    {
     "data": {
      "text/plain": [
       "40.97"
      ]
     },
     "execution_count": 136,
     "metadata": {},
     "output_type": "execute_result"
    }
   ],
   "source": [
    "y.median()\n",
    "\n"
   ]
  },
  {
   "cell_type": "code",
   "execution_count": 138,
   "metadata": {},
   "outputs": [
    {
     "data": {
      "text/plain": [
       "46.89496093749997"
      ]
     },
     "execution_count": 138,
     "metadata": {},
     "output_type": "execute_result"
    }
   ],
   "source": [
    "y.mean()"
   ]
  },
  {
   "cell_type": "code",
   "execution_count": 139,
   "metadata": {},
   "outputs": [
    {
     "data": {
      "text/plain": [
       "16.949999999999999"
      ]
     },
     "execution_count": 139,
     "metadata": {},
     "output_type": "execute_result"
    }
   ],
   "source": [
    "y.min()"
   ]
  },
  {
   "cell_type": "code",
   "execution_count": 140,
   "metadata": {},
   "outputs": [
    {
     "data": {
      "text/plain": [
       "89.950000000000003"
      ]
     },
     "execution_count": 140,
     "metadata": {},
     "output_type": "execute_result"
    }
   ],
   "source": [
    "y.max()"
   ]
  },
  {
   "cell_type": "code",
   "execution_count": 141,
   "metadata": {
    "collapsed": true
   },
   "outputs": [],
   "source": [
    "d=pd.DataFrame(y,columns=['y'])\n",
    "d.loc[d['y']<=40,'y_category']='low'\n",
    "d.loc[(d['y']>40) & (d['y'] < 65),'y_category'] = 'medium'\n",
    "d.loc[d['y'] >= 65,'y_category'] ='high'"
   ]
  },
  {
   "cell_type": "code",
   "execution_count": 157,
   "metadata": {
    "collapsed": true
   },
   "outputs": [],
   "source": [
    "from sklearn.model_selection import train_test_split\n",
    "X_train,X_test,y_train,y_test=train_test_split(X,d,test_size=0.2,random_state=10)"
   ]
  },
  {
   "cell_type": "code",
   "execution_count": 158,
   "metadata": {
    "collapsed": true
   },
   "outputs": [],
   "source": [
    "y_final_train=pd.get_dummies(data=y_train['y_category'])"
   ]
  },
  {
   "cell_type": "code",
   "execution_count": 159,
   "metadata": {
    "collapsed": true
   },
   "outputs": [],
   "source": [
    "#sc=MinMaxScaler()\n",
    "#X_train=sc.fit_transform(X_train)"
   ]
  },
  {
   "cell_type": "code",
   "execution_count": 163,
   "metadata": {},
   "outputs": [],
   "source": [
    "from keras.models import Sequential\n",
    "from keras.layers import Dense\n",
    "model = Sequential()\n",
    "model.add(Dense(12, input_dim=8, activation='relu',kernel_initializer='normal'))\n",
    "model.add(Dense(8, activation='relu', kernel_initializer='normal'))\n",
    "model.add(Dense(3, activation='sigmoid', kernel_initializer='normal'))"
   ]
  },
  {
   "cell_type": "code",
   "execution_count": 164,
   "metadata": {
    "collapsed": true
   },
   "outputs": [],
   "source": [
    "model.compile(loss='binary_crossentropy', optimizer='adam', metrics=['accuracy'])"
   ]
  },
  {
   "cell_type": "code",
   "execution_count": 166,
   "metadata": {},
   "outputs": [
    {
     "name": "stdout",
     "output_type": "stream",
     "text": [
      "Epoch 1/200\n",
      "614/614 [==============================] - 1s 854us/step - loss: 0.6126 - acc: 0.6591\n",
      "Epoch 2/200\n",
      "614/614 [==============================] - 0s 83us/step - loss: 0.5874 - acc: 0.6824\n",
      "Epoch 3/200\n",
      "614/614 [==============================] - 0s 77us/step - loss: 0.5628 - acc: 0.7524\n",
      "Epoch 4/200\n",
      "614/614 [==============================] - 0s 77us/step - loss: 0.5223 - acc: 0.7801\n",
      "Epoch 5/200\n",
      "614/614 [==============================] - 0s 82us/step - loss: 0.4609 - acc: 0.8355\n",
      "Epoch 6/200\n",
      "614/614 [==============================] - 0s 81us/step - loss: 0.4020 - acc: 0.8143\n",
      "Epoch 7/200\n",
      "614/614 [==============================] - 0s 75us/step - loss: 0.3622 - acc: 0.8176\n",
      "Epoch 8/200\n",
      "614/614 [==============================] - 0s 78us/step - loss: 0.3375 - acc: 0.8154\n",
      "Epoch 9/200\n",
      "614/614 [==============================] - 0s 77us/step - loss: 0.3231 - acc: 0.8105\n",
      "Epoch 10/200\n",
      "614/614 [==============================] - 0s 80us/step - loss: 0.3148 - acc: 0.8143\n",
      "Epoch 11/200\n",
      "614/614 [==============================] - 0s 77us/step - loss: 0.3132 - acc: 0.8165\n",
      "Epoch 12/200\n",
      "614/614 [==============================] - 0s 77us/step - loss: 0.3088 - acc: 0.8257\n",
      "Epoch 13/200\n",
      "614/614 [==============================] - 0s 77us/step - loss: 0.3038 - acc: 0.8192\n",
      "Epoch 14/200\n",
      "614/614 [==============================] - 0s 73us/step - loss: 0.3077 - acc: 0.8257\n",
      "Epoch 15/200\n",
      "614/614 [==============================] - 0s 77us/step - loss: 0.3049 - acc: 0.8192\n",
      "Epoch 16/200\n",
      "614/614 [==============================] - 0s 77us/step - loss: 0.3010 - acc: 0.8208\n",
      "Epoch 17/200\n",
      "614/614 [==============================] - 0s 77us/step - loss: 0.3008 - acc: 0.8160\n",
      "Epoch 18/200\n",
      "614/614 [==============================] - 0s 73us/step - loss: 0.2968 - acc: 0.8230\n",
      "Epoch 19/200\n",
      "614/614 [==============================] - 0s 73us/step - loss: 0.3006 - acc: 0.8160\n",
      "Epoch 20/200\n",
      "614/614 [==============================] - 0s 73us/step - loss: 0.2972 - acc: 0.8111\n",
      "Epoch 21/200\n",
      "614/614 [==============================] - 0s 75us/step - loss: 0.2973 - acc: 0.8192\n",
      "Epoch 22/200\n",
      "614/614 [==============================] - 0s 77us/step - loss: 0.2963 - acc: 0.8230\n",
      "Epoch 23/200\n",
      "614/614 [==============================] - 0s 77us/step - loss: 0.2987 - acc: 0.8181\n",
      "Epoch 24/200\n",
      "614/614 [==============================] - 0s 77us/step - loss: 0.2999 - acc: 0.8170\n",
      "Epoch 25/200\n",
      "614/614 [==============================] - 0s 78us/step - loss: 0.2986 - acc: 0.8274\n",
      "Epoch 26/200\n",
      "614/614 [==============================] - 0s 77us/step - loss: 0.2973 - acc: 0.8165\n",
      "Epoch 27/200\n",
      "614/614 [==============================] - 0s 78us/step - loss: 0.2966 - acc: 0.8219\n",
      "Epoch 28/200\n",
      "614/614 [==============================] - 0s 85us/step - loss: 0.2945 - acc: 0.8236\n",
      "Epoch 29/200\n",
      "614/614 [==============================] - 0s 86us/step - loss: 0.2975 - acc: 0.8371\n",
      "Epoch 30/200\n",
      "614/614 [==============================] - 0s 106us/step - loss: 0.2972 - acc: 0.8154\n",
      "Epoch 31/200\n",
      "614/614 [==============================] - 0s 95us/step - loss: 0.2999 - acc: 0.8360\n",
      "Epoch 32/200\n",
      "614/614 [==============================] - 0s 98us/step - loss: 0.2939 - acc: 0.8268\n",
      "Epoch 33/200\n",
      "614/614 [==============================] - 0s 96us/step - loss: 0.2951 - acc: 0.8181\n",
      "Epoch 34/200\n",
      "614/614 [==============================] - 0s 98us/step - loss: 0.2972 - acc: 0.8263\n",
      "Epoch 35/200\n",
      "614/614 [==============================] - 0s 95us/step - loss: 0.2957 - acc: 0.8203\n",
      "Epoch 36/200\n",
      "614/614 [==============================] - 0s 101us/step - loss: 0.2949 - acc: 0.8301\n",
      "Epoch 37/200\n",
      "614/614 [==============================] - 0s 98us/step - loss: 0.2945 - acc: 0.8165\n",
      "Epoch 38/200\n",
      "614/614 [==============================] - 0s 103us/step - loss: 0.2955 - acc: 0.8344\n",
      "Epoch 39/200\n",
      "614/614 [==============================] - 0s 98us/step - loss: 0.2928 - acc: 0.8290\n",
      "Epoch 40/200\n",
      "614/614 [==============================] - 0s 104us/step - loss: 0.2924 - acc: 0.8377\n",
      "Epoch 41/200\n",
      "614/614 [==============================] - 0s 93us/step - loss: 0.2944 - acc: 0.8203\n",
      "Epoch 42/200\n",
      "614/614 [==============================] - 0s 93us/step - loss: 0.2914 - acc: 0.8382\n",
      "Epoch 43/200\n",
      "614/614 [==============================] - 0s 98us/step - loss: 0.2913 - acc: 0.8219\n",
      "Epoch 44/200\n",
      "614/614 [==============================] - 0s 98us/step - loss: 0.2949 - acc: 0.8360\n",
      "Epoch 45/200\n",
      "614/614 [==============================] - 0s 98us/step - loss: 0.2919 - acc: 0.8279\n",
      "Epoch 46/200\n",
      "614/614 [==============================] - 0s 101us/step - loss: 0.2905 - acc: 0.8301\n",
      "Epoch 47/200\n",
      "614/614 [==============================] - 0s 98us/step - loss: 0.2933 - acc: 0.8246\n",
      "Epoch 48/200\n",
      "614/614 [==============================] - 0s 95us/step - loss: 0.2902 - acc: 0.8241\n",
      "Epoch 49/200\n",
      "614/614 [==============================] - 0s 98us/step - loss: 0.2919 - acc: 0.8257\n",
      "Epoch 50/200\n",
      "614/614 [==============================] - 0s 96us/step - loss: 0.2911 - acc: 0.8350\n",
      "Epoch 51/200\n",
      "614/614 [==============================] - 0s 83us/step - loss: 0.2906 - acc: 0.8355\n",
      "Epoch 52/200\n",
      "614/614 [==============================] - 0s 96us/step - loss: 0.2975 - acc: 0.8208\n",
      "Epoch 53/200\n",
      "614/614 [==============================] - 0s 95us/step - loss: 0.2941 - acc: 0.8312\n",
      "Epoch 54/200\n",
      "614/614 [==============================] - 0s 96us/step - loss: 0.2903 - acc: 0.8317\n",
      "Epoch 55/200\n",
      "614/614 [==============================] - 0s 86us/step - loss: 0.2867 - acc: 0.8295\n",
      "Epoch 56/200\n",
      "614/614 [==============================] - 0s 99us/step - loss: 0.2899 - acc: 0.8241\n",
      "Epoch 57/200\n",
      "614/614 [==============================] - 0s 95us/step - loss: 0.2834 - acc: 0.8268\n",
      "Epoch 58/200\n",
      "614/614 [==============================] - 0s 103us/step - loss: 0.2836 - acc: 0.8322\n",
      "Epoch 59/200\n",
      "614/614 [==============================] - 0s 88us/step - loss: 0.2833 - acc: 0.8312\n",
      "Epoch 60/200\n",
      "614/614 [==============================] - 0s 101us/step - loss: 0.2815 - acc: 0.8306\n",
      "Epoch 61/200\n",
      "614/614 [==============================] - 0s 95us/step - loss: 0.2810 - acc: 0.8322\n",
      "Epoch 62/200\n",
      "614/614 [==============================] - 0s 103us/step - loss: 0.2780 - acc: 0.8523\n",
      "Epoch 63/200\n",
      "614/614 [==============================] - 0s 98us/step - loss: 0.2804 - acc: 0.8496\n",
      "Epoch 64/200\n",
      "614/614 [==============================] - 0s 96us/step - loss: 0.2783 - acc: 0.8512\n",
      "Epoch 65/200\n",
      "614/614 [==============================] - 0s 95us/step - loss: 0.2743 - acc: 0.8507\n",
      "Epoch 66/200\n",
      "614/614 [==============================] - 0s 96us/step - loss: 0.2731 - acc: 0.8529\n",
      "Epoch 67/200\n",
      "614/614 [==============================] - 0s 93us/step - loss: 0.2744 - acc: 0.8447\n",
      "Epoch 68/200\n",
      "614/614 [==============================] - 0s 93us/step - loss: 0.2764 - acc: 0.8529\n",
      "Epoch 69/200\n",
      "614/614 [==============================] - 0s 85us/step - loss: 0.2717 - acc: 0.8518\n",
      "Epoch 70/200\n",
      "614/614 [==============================] - 0s 88us/step - loss: 0.2716 - acc: 0.8469\n",
      "Epoch 71/200\n",
      "614/614 [==============================] - 0s 96us/step - loss: 0.2689 - acc: 0.8507\n",
      "Epoch 72/200\n",
      "614/614 [==============================] - 0s 95us/step - loss: 0.2693 - acc: 0.8545\n",
      "Epoch 73/200\n",
      "614/614 [==============================] - 0s 85us/step - loss: 0.2658 - acc: 0.8730\n",
      "Epoch 74/200\n",
      "614/614 [==============================] - 0s 95us/step - loss: 0.2692 - acc: 0.8616\n",
      "Epoch 75/200\n",
      "614/614 [==============================] - 0s 98us/step - loss: 0.2653 - acc: 0.8735\n",
      "Epoch 76/200\n",
      "614/614 [==============================] - 0s 104us/step - loss: 0.2636 - acc: 0.8692\n",
      "Epoch 77/200\n",
      "614/614 [==============================] - 0s 83us/step - loss: 0.2634 - acc: 0.8855\n",
      "Epoch 78/200\n",
      "614/614 [==============================] - 0s 78us/step - loss: 0.2648 - acc: 0.8811\n",
      "Epoch 79/200\n",
      "614/614 [==============================] - 0s 78us/step - loss: 0.2676 - acc: 0.8746\n",
      "Epoch 80/200\n",
      "614/614 [==============================] - 0s 93us/step - loss: 0.2634 - acc: 0.8871\n",
      "Epoch 81/200\n",
      "614/614 [==============================] - 0s 78us/step - loss: 0.2608 - acc: 0.8914\n",
      "Epoch 82/200\n",
      "614/614 [==============================] - 0s 82us/step - loss: 0.2626 - acc: 0.8855\n",
      "Epoch 83/200\n",
      "614/614 [==============================] - 0s 82us/step - loss: 0.2616 - acc: 0.8827\n",
      "Epoch 84/200\n",
      "614/614 [==============================] - 0s 75us/step - loss: 0.2626 - acc: 0.8844\n",
      "Epoch 85/200\n",
      "614/614 [==============================] - 0s 75us/step - loss: 0.2588 - acc: 0.8865\n",
      "Epoch 86/200\n",
      "614/614 [==============================] - 0s 81us/step - loss: 0.2621 - acc: 0.8882\n",
      "Epoch 87/200\n",
      "614/614 [==============================] - 0s 84us/step - loss: 0.2578 - acc: 0.8958\n",
      "Epoch 88/200\n",
      "614/614 [==============================] - 0s 77us/step - loss: 0.2620 - acc: 0.8855\n",
      "Epoch 89/200\n",
      "614/614 [==============================] - 0s 77us/step - loss: 0.2564 - acc: 0.9028\n",
      "Epoch 90/200\n",
      "614/614 [==============================] - 0s 83us/step - loss: 0.2540 - acc: 0.9023\n",
      "Epoch 91/200\n",
      "614/614 [==============================] - 0s 83us/step - loss: 0.2573 - acc: 0.8838\n",
      "Epoch 92/200\n",
      "614/614 [==============================] - 0s 77us/step - loss: 0.2552 - acc: 0.9012\n",
      "Epoch 93/200\n",
      "614/614 [==============================] - 0s 78us/step - loss: 0.2592 - acc: 0.8903\n",
      "Epoch 94/200\n",
      "614/614 [==============================] - 0s 78us/step - loss: 0.2567 - acc: 0.8893\n",
      "Epoch 95/200\n",
      "614/614 [==============================] - ETA: 0s - loss: 0.3001 - acc: 0.883 - 0s 80us/step - loss: 0.2586 - acc: 0.8985\n",
      "Epoch 96/200\n",
      "614/614 [==============================] - 0s 96us/step - loss: 0.2555 - acc: 0.8860\n",
      "Epoch 97/200\n",
      "614/614 [==============================] - 0s 101us/step - loss: 0.2516 - acc: 0.8914\n",
      "Epoch 98/200\n",
      "614/614 [==============================] - 0s 96us/step - loss: 0.2516 - acc: 0.9012\n",
      "Epoch 99/200\n",
      "614/614 [==============================] - 0s 83us/step - loss: 0.2498 - acc: 0.9001\n",
      "Epoch 100/200\n",
      "614/614 [==============================] - 0s 91us/step - loss: 0.2539 - acc: 0.8876\n",
      "Epoch 101/200\n",
      "614/614 [==============================] - 0s 93us/step - loss: 0.2505 - acc: 0.9007\n",
      "Epoch 102/200\n",
      "614/614 [==============================] - 0s 85us/step - loss: 0.2503 - acc: 0.8920\n",
      "Epoch 103/200\n",
      "614/614 [==============================] - 0s 83us/step - loss: 0.2506 - acc: 0.8952\n",
      "Epoch 104/200\n",
      "614/614 [==============================] - 0s 95us/step - loss: 0.2479 - acc: 0.8974\n",
      "Epoch 105/200\n",
      "614/614 [==============================] - 0s 81us/step - loss: 0.2507 - acc: 0.8920\n",
      "Epoch 106/200\n",
      "614/614 [==============================] - 0s 80us/step - loss: 0.2499 - acc: 0.9007\n",
      "Epoch 107/200\n",
      "614/614 [==============================] - 0s 81us/step - loss: 0.2474 - acc: 0.8931\n",
      "Epoch 108/200\n",
      "614/614 [==============================] - 0s 81us/step - loss: 0.2494 - acc: 0.8963\n",
      "Epoch 109/200\n",
      "614/614 [==============================] - 0s 90us/step - loss: 0.2641 - acc: 0.8773\n",
      "Epoch 110/200\n",
      "614/614 [==============================] - 0s 104us/step - loss: 0.2514 - acc: 0.8931\n",
      "Epoch 111/200\n",
      "614/614 [==============================] - 0s 83us/step - loss: 0.2494 - acc: 0.9007\n",
      "Epoch 112/200\n",
      "614/614 [==============================] - 0s 83us/step - loss: 0.2479 - acc: 0.8925\n",
      "Epoch 113/200\n",
      "614/614 [==============================] - 0s 91us/step - loss: 0.2456 - acc: 0.8958\n",
      "Epoch 114/200\n",
      "614/614 [==============================] - 0s 78us/step - loss: 0.2442 - acc: 0.9066\n",
      "Epoch 115/200\n",
      "614/614 [==============================] - 0s 85us/step - loss: 0.2476 - acc: 0.8920\n",
      "Epoch 116/200\n",
      "614/614 [==============================] - 0s 78us/step - loss: 0.2580 - acc: 0.8768\n",
      "Epoch 117/200\n",
      "614/614 [==============================] - 0s 85us/step - loss: 0.2537 - acc: 0.8795\n",
      "Epoch 118/200\n",
      "614/614 [==============================] - 0s 80us/step - loss: 0.2525 - acc: 0.8811\n",
      "Epoch 119/200\n",
      "614/614 [==============================] - 0s 91us/step - loss: 0.2467 - acc: 0.8931\n",
      "Epoch 120/200\n",
      "614/614 [==============================] - 0s 86us/step - loss: 0.2491 - acc: 0.8941\n",
      "Epoch 121/200\n",
      "614/614 [==============================] - 0s 86us/step - loss: 0.2450 - acc: 0.8996\n",
      "Epoch 122/200\n",
      "614/614 [==============================] - 0s 85us/step - loss: 0.2491 - acc: 0.8914\n",
      "Epoch 123/200\n",
      "614/614 [==============================] - 0s 93us/step - loss: 0.2437 - acc: 0.9012\n",
      "Epoch 124/200\n",
      "614/614 [==============================] - 0s 104us/step - loss: 0.2473 - acc: 0.8936\n",
      "Epoch 125/200\n",
      "614/614 [==============================] - 0s 96us/step - loss: 0.2431 - acc: 0.9061\n",
      "Epoch 126/200\n",
      "614/614 [==============================] - 0s 81us/step - loss: 0.2483 - acc: 0.8827\n",
      "Epoch 127/200\n",
      "614/614 [==============================] - 0s 81us/step - loss: 0.2426 - acc: 0.9050\n",
      "Epoch 128/200\n",
      "614/614 [==============================] - 0s 95us/step - loss: 0.2459 - acc: 0.8947\n",
      "Epoch 129/200\n",
      "614/614 [==============================] - 0s 81us/step - loss: 0.2445 - acc: 0.8925\n",
      "Epoch 130/200\n",
      "614/614 [==============================] - 0s 91us/step - loss: 0.2421 - acc: 0.8903\n",
      "Epoch 131/200\n",
      "614/614 [==============================] - 0s 81us/step - loss: 0.2425 - acc: 0.8958\n",
      "Epoch 132/200\n",
      "614/614 [==============================] - 0s 93us/step - loss: 0.2416 - acc: 0.9039\n",
      "Epoch 133/200\n",
      "614/614 [==============================] - 0s 81us/step - loss: 0.2454 - acc: 0.8876\n",
      "Epoch 134/200\n",
      "614/614 [==============================] - 0s 88us/step - loss: 0.2413 - acc: 0.8909\n",
      "Epoch 135/200\n",
      "614/614 [==============================] - 0s 90us/step - loss: 0.2426 - acc: 0.9083\n",
      "Epoch 136/200\n",
      "614/614 [==============================] - 0s 80us/step - loss: 0.2439 - acc: 0.8898\n",
      "Epoch 137/200\n",
      "614/614 [==============================] - 0s 86us/step - loss: 0.2409 - acc: 0.8947\n",
      "Epoch 138/200\n",
      "614/614 [==============================] - 0s 81us/step - loss: 0.2408 - acc: 0.8996\n",
      "Epoch 139/200\n",
      "614/614 [==============================] - 0s 80us/step - loss: 0.2456 - acc: 0.8985\n",
      "Epoch 140/200\n",
      "614/614 [==============================] - 0s 83us/step - loss: 0.2447 - acc: 0.8914\n",
      "Epoch 141/200\n",
      "614/614 [==============================] - 0s 83us/step - loss: 0.2408 - acc: 0.8985\n",
      "Epoch 142/200\n",
      "614/614 [==============================] - 0s 81us/step - loss: 0.2402 - acc: 0.8903\n",
      "Epoch 143/200\n",
      "614/614 [==============================] - 0s 80us/step - loss: 0.2477 - acc: 0.8979\n",
      "Epoch 144/200\n",
      "614/614 [==============================] - 0s 83us/step - loss: 0.2424 - acc: 0.9012\n",
      "Epoch 145/200\n",
      "614/614 [==============================] - 0s 78us/step - loss: 0.2451 - acc: 0.9023\n",
      "Epoch 146/200\n",
      "614/614 [==============================] - 0s 80us/step - loss: 0.2412 - acc: 0.9023\n",
      "Epoch 147/200\n",
      "614/614 [==============================] - 0s 80us/step - loss: 0.2406 - acc: 0.8996\n",
      "Epoch 148/200\n",
      "614/614 [==============================] - 0s 83us/step - loss: 0.2410 - acc: 0.8990\n",
      "Epoch 149/200\n",
      "614/614 [==============================] - 0s 80us/step - loss: 0.2421 - acc: 0.8979\n",
      "Epoch 150/200\n",
      "614/614 [==============================] - 0s 80us/step - loss: 0.2475 - acc: 0.8849\n",
      "Epoch 151/200\n",
      "614/614 [==============================] - 0s 78us/step - loss: 0.2384 - acc: 0.9077\n",
      "Epoch 152/200\n",
      "614/614 [==============================] - 0s 80us/step - loss: 0.2403 - acc: 0.8958\n",
      "Epoch 153/200\n",
      "614/614 [==============================] - 0s 80us/step - loss: 0.2458 - acc: 0.9007\n",
      "Epoch 154/200\n",
      "614/614 [==============================] - 0s 85us/step - loss: 0.2422 - acc: 0.8979\n",
      "Epoch 155/200\n",
      "614/614 [==============================] - 0s 83us/step - loss: 0.2391 - acc: 0.8936\n",
      "Epoch 156/200\n",
      "614/614 [==============================] - 0s 78us/step - loss: 0.2411 - acc: 0.9028\n",
      "Epoch 157/200\n",
      "614/614 [==============================] - 0s 81us/step - loss: 0.2390 - acc: 0.9023\n",
      "Epoch 158/200\n",
      "614/614 [==============================] - 0s 86us/step - loss: 0.2393 - acc: 0.9001\n",
      "Epoch 159/200\n",
      "614/614 [==============================] - 0s 80us/step - loss: 0.2421 - acc: 0.8979\n",
      "Epoch 160/200\n",
      "614/614 [==============================] - 0s 78us/step - loss: 0.2412 - acc: 0.9039\n",
      "Epoch 161/200\n",
      "614/614 [==============================] - 0s 81us/step - loss: 0.2382 - acc: 0.9045\n",
      "Epoch 162/200\n",
      "614/614 [==============================] - 0s 80us/step - loss: 0.2378 - acc: 0.9077\n",
      "Epoch 163/200\n",
      "614/614 [==============================] - 0s 78us/step - loss: 0.2377 - acc: 0.9050\n",
      "Epoch 164/200\n",
      "614/614 [==============================] - 0s 80us/step - loss: 0.2395 - acc: 0.9028\n",
      "Epoch 165/200\n",
      "614/614 [==============================] - 0s 83us/step - loss: 0.2372 - acc: 0.9001\n",
      "Epoch 166/200\n"
     ]
    },
    {
     "name": "stdout",
     "output_type": "stream",
     "text": [
      "614/614 [==============================] - 0s 78us/step - loss: 0.2419 - acc: 0.8936\n",
      "Epoch 167/200\n",
      "614/614 [==============================] - 0s 77us/step - loss: 0.2386 - acc: 0.9077\n",
      "Epoch 168/200\n",
      "614/614 [==============================] - 0s 72us/step - loss: 0.2393 - acc: 0.9012\n",
      "Epoch 169/200\n",
      "614/614 [==============================] - 0s 91us/step - loss: 0.2363 - acc: 0.9061\n",
      "Epoch 170/200\n",
      "614/614 [==============================] - 0s 86us/step - loss: 0.2376 - acc: 0.9017\n",
      "Epoch 171/200\n",
      "614/614 [==============================] - 0s 112us/step - loss: 0.2372 - acc: 0.9055\n",
      "Epoch 172/200\n",
      "614/614 [==============================] - 0s 104us/step - loss: 0.2386 - acc: 0.8958\n",
      "Epoch 173/200\n",
      "614/614 [==============================] - 0s 104us/step - loss: 0.2376 - acc: 0.9093\n",
      "Epoch 174/200\n",
      "614/614 [==============================] - 0s 85us/step - loss: 0.2385 - acc: 0.8947\n",
      "Epoch 175/200\n",
      "614/614 [==============================] - 0s 91us/step - loss: 0.2437 - acc: 0.8909\n",
      "Epoch 176/200\n",
      "614/614 [==============================] - 0s 80us/step - loss: 0.2363 - acc: 0.9039\n",
      "Epoch 177/200\n",
      "614/614 [==============================] - 0s 85us/step - loss: 0.2361 - acc: 0.9028\n",
      "Epoch 178/200\n",
      "614/614 [==============================] - 0s 81us/step - loss: 0.2360 - acc: 0.9017\n",
      "Epoch 179/200\n",
      "614/614 [==============================] - 0s 77us/step - loss: 0.2350 - acc: 0.9066\n",
      "Epoch 180/200\n",
      "614/614 [==============================] - 0s 78us/step - loss: 0.2347 - acc: 0.9083\n",
      "Epoch 181/200\n",
      "614/614 [==============================] - 0s 98us/step - loss: 0.2373 - acc: 0.8963\n",
      "Epoch 182/200\n",
      "614/614 [==============================] - 0s 95us/step - loss: 0.2515 - acc: 0.8931\n",
      "Epoch 183/200\n",
      "614/614 [==============================] - 0s 90us/step - loss: 0.2383 - acc: 0.9007\n",
      "Epoch 184/200\n",
      "614/614 [==============================] - 0s 91us/step - loss: 0.2391 - acc: 0.8920\n",
      "Epoch 185/200\n",
      "614/614 [==============================] - 0s 95us/step - loss: 0.2386 - acc: 0.8958\n",
      "Epoch 186/200\n",
      "614/614 [==============================] - 0s 93us/step - loss: 0.2440 - acc: 0.9023\n",
      "Epoch 187/200\n",
      "614/614 [==============================] - 0s 81us/step - loss: 0.2338 - acc: 0.9066\n",
      "Epoch 188/200\n",
      "614/614 [==============================] - 0s 85us/step - loss: 0.2386 - acc: 0.8990\n",
      "Epoch 189/200\n",
      "614/614 [==============================] - 0s 78us/step - loss: 0.2352 - acc: 0.9066\n",
      "Epoch 190/200\n",
      "614/614 [==============================] - 0s 81us/step - loss: 0.2392 - acc: 0.8979\n",
      "Epoch 191/200\n",
      "614/614 [==============================] - 0s 81us/step - loss: 0.2367 - acc: 0.8952\n",
      "Epoch 192/200\n",
      "614/614 [==============================] - 0s 88us/step - loss: 0.2408 - acc: 0.8985\n",
      "Epoch 193/200\n",
      "614/614 [==============================] - 0s 85us/step - loss: 0.2402 - acc: 0.9050\n",
      "Epoch 194/200\n",
      "614/614 [==============================] - 0s 85us/step - loss: 0.2363 - acc: 0.8969\n",
      "Epoch 195/200\n",
      "614/614 [==============================] - 0s 85us/step - loss: 0.2344 - acc: 0.9034\n",
      "Epoch 196/200\n",
      "614/614 [==============================] - 0s 86us/step - loss: 0.2360 - acc: 0.8985\n",
      "Epoch 197/200\n",
      "614/614 [==============================] - 0s 81us/step - loss: 0.2355 - acc: 0.9045\n",
      "Epoch 198/200\n",
      "614/614 [==============================] - 0s 78us/step - loss: 0.2365 - acc: 0.9083\n",
      "Epoch 199/200\n",
      "614/614 [==============================] - 0s 75us/step - loss: 0.2378 - acc: 0.9077\n",
      "Epoch 200/200\n",
      "614/614 [==============================] - 0s 78us/step - loss: 0.2340 - acc: 0.9017\n"
     ]
    },
    {
     "data": {
      "text/plain": [
       "<keras.callbacks.History at 0xcfd6445978>"
      ]
     },
     "execution_count": 166,
     "metadata": {},
     "output_type": "execute_result"
    }
   ],
   "source": [
    "model.fit(X_train, y_final_train, epochs=200, batch_size=20)"
   ]
  },
  {
   "cell_type": "code",
   "execution_count": 168,
   "metadata": {},
   "outputs": [
    {
     "name": "stdout",
     "output_type": "stream",
     "text": [
      "154/154 [==============================] - 0s 52us/step\n",
      "\n",
      "acc: 90.91%\n"
     ]
    }
   ],
   "source": [
    "y_final_test=pd.get_dummies(data=y_test['y_category'])\n",
    "scores = model.evaluate(X_test, y_final_test)\n",
    "print(\"\\n%s: %.2f%%\" % (model.metrics_names[1], scores[1]*100))"
   ]
  },
  {
   "cell_type": "markdown",
   "metadata": {},
   "source": [
    "# Report\n",
    "#############################################################################"
   ]
  },
  {
   "cell_type": "markdown",
   "metadata": {},
   "source": [
    "#### * Basic Explorataory analysis was performed on the dataset.\n",
    "#### * Since there are two dependent variables I have evaluated two models one with heat_loading and the other with cool_loading.\n",
    "#### *  Basic models such as linear regression ,Ridge Regression , lasso regression,decision Tree Regressor were evaluate and their R2 score was computed.\n",
    "#### * As expected Decision Tree has the highest test and train scores and it is over fitting. \n",
    "#### * Ensemble methods such as Random Forest , Bagging , Ada boost were used on both the models and their test and train score were evaluated.\n",
    "#### *  At last using Neural Network I  have classified the combined heating and cooling load (total load) as low,medium,high with a 90.91% Accuracy"
   ]
  },
  {
   "cell_type": "code",
   "execution_count": null,
   "metadata": {
    "collapsed": true
   },
   "outputs": [],
   "source": []
  }
 ],
 "metadata": {
  "kernelspec": {
   "display_name": "Python 3",
   "language": "python",
   "name": "python3"
  },
  "language_info": {
   "codemirror_mode": {
    "name": "ipython",
    "version": 3
   },
   "file_extension": ".py",
   "mimetype": "text/x-python",
   "name": "python",
   "nbconvert_exporter": "python",
   "pygments_lexer": "ipython3",
   "version": "3.6.5"
  }
 },
 "nbformat": 4,
 "nbformat_minor": 2
}
